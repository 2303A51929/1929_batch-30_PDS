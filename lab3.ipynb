{
  "nbformat": 4,
  "nbformat_minor": 0,
  "metadata": {
    "colab": {
      "provenance": [],
      "authorship_tag": "ABX9TyMbm0GAHXAlHADFPQ03M3TN",
      "include_colab_link": true
    },
    "kernelspec": {
      "name": "python3",
      "display_name": "Python 3"
    },
    "language_info": {
      "name": "python"
    }
  },
  "cells": [
    {
      "cell_type": "markdown",
      "metadata": {
        "id": "view-in-github",
        "colab_type": "text"
      },
      "source": [
        "<a href=\"https://colab.research.google.com/github/2303A51929/1929_batch-30_PDS/blob/main/lab3.ipynb\" target=\"_parent\"><img src=\"https://colab.research.google.com/assets/colab-badge.svg\" alt=\"Open In Colab\"/></a>"
      ]
    },
    {
      "cell_type": "markdown",
      "source": [
        "question1\n"
      ],
      "metadata": {
        "id": "txLzWrHcBqyH"
      }
    },
    {
      "cell_type": "code",
      "source": [
        "import numpy as np\n",
        "\n",
        "test_scores = np.random.randint(0, 101, size=(4, 4))\n",
        "print(test_scores)\n",
        "\n",
        "column_means = np.mean(test_scores, axis=0)\n",
        "row_means = np.mean(test_scores, axis=1)\n",
        "\n",
        "print(\"Column-wise means:\", column_means)\n",
        "print(\"Row-wise means:\", row_means)\n",
        "\n",
        "std_dev = np.std(test_scores)\n",
        "variance = np.var(test_scores)\n",
        "\n",
        "print(\"Standard Deviation:\", std_dev)\n",
        "print(\"Variance:\", variance)\n",
        "\n",
        "min_value = np.min(test_scores)\n",
        "max_value = np.max(test_scores)\n",
        "min_index = np.argmin(test_scores)\n",
        "max_index = np.argmax(test_scores)\n",
        "\n",
        "print(\"Minimum value:\", min_value)\n",
        "print(\"Maximum value:\", max_value)\n",
        "print(\"Index of minimum value:\", min_index)\n",
        "print(\"Index of maximum value:\", max_index)"
      ],
      "metadata": {
        "colab": {
          "base_uri": "https://localhost:8080/"
        },
        "id": "VASg7gNlBuoS",
        "outputId": "5860ffce-38cc-4e6e-81ca-4e9213402b21"
      },
      "execution_count": 2,
      "outputs": [
        {
          "output_type": "stream",
          "name": "stdout",
          "text": [
            "[[52 65 57  9]\n",
            " [37 20  3 99]\n",
            " [89 20  6 76]\n",
            " [91 19 22  1]]\n",
            "Column-wise means: [67.25 31.   22.   46.25]\n",
            "Row-wise means: [45.75 39.75 47.75 33.25]\n",
            "Standard Deviation: 32.95427703652441\n",
            "Variance: 1085.984375\n",
            "Minimum value: 1\n",
            "Maximum value: 99\n",
            "Index of minimum value: 15\n",
            "Index of maximum value: 7\n"
          ]
        }
      ]
    },
    {
      "cell_type": "markdown",
      "source": [
        "question 2\n"
      ],
      "metadata": {
        "id": "LiAtk8xYCPqc"
      }
    },
    {
      "cell_type": "code",
      "source": [
        "rgb_image = np.random.randint(0, 256, size=(3, 3, 3))\n",
        "print(rgb_image)\n",
        "red_channel = rgb_image[:, :, 0]\n",
        "green_channel = rgb_image[:, :, 1]\n",
        "blue_channel = rgb_image[:, :, 2]\n",
        "\n",
        "print(\"Red Channel:\\n\", red_channel)\n",
        "print(\"Green Channel:\\n\", green_channel)\n",
        "print(\"Blue Channel:\\n\", blue_channel)\n",
        "red_mean = np.mean(red_channel)\n",
        "green_mean = np.mean(green_channel)\n",
        "blue_mean = np.mean(blue_channel)\n",
        "\n",
        "print(f\"Average pixel intensity for Red channel: {red_mean}\")\n",
        "print(f\"Average pixel intensity for Green channel: {green_mean}\")\n",
        "print(f\"Average pixel intensity for Blue channel: {blue_mean}\")\n",
        "brightness_increase = 50\n",
        "brightened_image = np.clip(rgb_image + brightness_increase, 0, 255)\n",
        "print(\"Brightened Image (clipped at 255):\\n\", brightened_image)"
      ],
      "metadata": {
        "colab": {
          "base_uri": "https://localhost:8080/"
        },
        "id": "ZCZTGM1mCMWH",
        "outputId": "fa2fde11-7add-4714-906c-31eae2a4ee88"
      },
      "execution_count": 6,
      "outputs": [
        {
          "output_type": "stream",
          "name": "stdout",
          "text": [
            "[[[101  37 198]\n",
            "  [105  72  48]\n",
            "  [158 247 162]]\n",
            "\n",
            " [[239 135   4]\n",
            "  [161 150 155]\n",
            "  [122  11  87]]\n",
            "\n",
            " [[ 40  51 180]\n",
            "  [177 118 181]\n",
            "  [189  81   1]]]\n",
            "Red Channel:\n",
            " [[101 105 158]\n",
            " [239 161 122]\n",
            " [ 40 177 189]]\n",
            "Green Channel:\n",
            " [[ 37  72 247]\n",
            " [135 150  11]\n",
            " [ 51 118  81]]\n",
            "Blue Channel:\n",
            " [[198  48 162]\n",
            " [  4 155  87]\n",
            " [180 181   1]]\n",
            "Average pixel intensity for Red channel: 143.55555555555554\n",
            "Average pixel intensity for Green channel: 100.22222222222223\n",
            "Average pixel intensity for Blue channel: 112.88888888888889\n",
            "Brightened Image (clipped at 255):\n",
            " [[[151  87 248]\n",
            "  [155 122  98]\n",
            "  [208 255 212]]\n",
            "\n",
            " [[255 185  54]\n",
            "  [211 200 205]\n",
            "  [172  61 137]]\n",
            "\n",
            " [[ 90 101 230]\n",
            "  [227 168 231]\n",
            "  [239 131  51]]]\n"
          ]
        }
      ]
    }
  ]
}