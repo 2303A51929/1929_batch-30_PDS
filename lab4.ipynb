{
  "nbformat": 4,
  "nbformat_minor": 0,
  "metadata": {
    "colab": {
      "provenance": [],
      "authorship_tag": "ABX9TyPaDPj/5lbwd/2FabIu9YPu",
      "include_colab_link": true
    },
    "kernelspec": {
      "name": "python3",
      "display_name": "Python 3"
    },
    "language_info": {
      "name": "python"
    }
  },
  "cells": [
    {
      "cell_type": "markdown",
      "metadata": {
        "id": "view-in-github",
        "colab_type": "text"
      },
      "source": [
        "<a href=\"https://colab.research.google.com/github/2303A51929/1929_batch-30_PDS/blob/main/lab4.ipynb\" target=\"_parent\"><img src=\"https://colab.research.google.com/assets/colab-badge.svg\" alt=\"Open In Colab\"/></a>"
      ]
    },
    {
      "cell_type": "code",
      "execution_count": 4,
      "metadata": {
        "colab": {
          "base_uri": "https://localhost:8080/"
        },
        "id": "viwlPVblSh0T",
        "outputId": "5c3a571d-fb12-41c0-a3a9-ef2d7829f872"
      },
      "outputs": [
        {
          "output_type": "stream",
          "name": "stdout",
          "text": [
            "Meaningful Feedbacks for 'Python for Data Science' (Rating >= 4):\n",
            "\n",
            "User: 1 | Rating: 5 | Feedback: Great course!\n",
            "\n",
            "User: 3 | Rating: 4 | Feedback: Good content.\n",
            "\n",
            "User: 7 | Rating: 4 | Feedback: Helpful examples.\n",
            "\n"
          ]
        }
      ],
      "source": [
        "import pandas as pd\n",
        "\n",
        "df = pd.read_csv(\"course_feedback.csv\")\n",
        "\n",
        "df = df.dropna(subset=[\"Rating\"])\n",
        "\n",
        "filtered_df = df[(df[\"Course_Name\"] == \"Python for Data Science\") & (df[\"Rating\"] >= 4)]\n",
        "\n",
        "if not filtered_df.empty:\n",
        "    print(\"Meaningful Feedbacks for 'Python for Data Science' (Rating >= 4):\\n\")\n",
        "    for _, row in filtered_df.iterrows():\n",
        "        print(f\"User: {row['User_ID']} | Rating: {row['Rating']} | Feedback: {row['Feedback']}\\n\")\n",
        "else:\n",
        "    print(\"No feedback found matching the criteria.\")"
      ]
    },
    {
      "cell_type": "code",
      "source": [
        "import pandas as pd\n",
        "\n",
        "\n",
        "df = pd.read_csv(\"air_quality.csv\")\n",
        "\n",
        "\n",
        "df = df.fillna(method=\"ffill\")\n",
        "\n",
        "\n",
        "polluted_days = df[(df[\"PM2.5\"] > 150) & (df[\"NO2\"] > 80)]\n",
        "\n",
        "\n",
        "if not polluted_days.empty:\n",
        "    print(\"Polluted Day Records (PM2.5 > 150 and NO2 > 80):\\n\")\n",
        "    print(polluted_days[[\"Location\", \"PM2.5\", \"NO2\", \"Date\"]])\n",
        "else:\n",
        "    print(\"No polluted day records found.\")\n",
        "\n",
        "polluted_days.to_csv(\"polluted_days.csv\", index=False)"
      ],
      "metadata": {
        "colab": {
          "base_uri": "https://localhost:8080/"
        },
        "id": "o2Vv9WnyUVw-",
        "outputId": "eb96d982-d6eb-480b-b4c0-8bd93fb849a1"
      },
      "execution_count": 9,
      "outputs": [
        {
          "output_type": "stream",
          "name": "stdout",
          "text": [
            "Polluted Day Records (PM2.5 > 150 and NO2 > 80):\n",
            "\n",
            "  Location  PM2.5  NO2        Date\n",
            "1   City B    180   95  2025-09-02\n",
            "3   City D    200   85  2025-09-04\n",
            "4   City E    160  100  2025-09-05\n"
          ]
        },
        {
          "output_type": "stream",
          "name": "stderr",
          "text": [
            "/tmp/ipython-input-181510098.py:7: FutureWarning: DataFrame.fillna with 'method' is deprecated and will raise in a future version. Use obj.ffill() or obj.bfill() instead.\n",
            "  df = df.fillna(method=\"ffill\")\n"
          ]
        }
      ]
    }
  ]
}