{
  "nbformat": 4,
  "nbformat_minor": 0,
  "metadata": {
    "colab": {
      "provenance": [],
      "authorship_tag": "ABX9TyP2WIPwrKYkmVihe7tUtQYN",
      "include_colab_link": true
    },
    "kernelspec": {
      "name": "python3",
      "display_name": "Python 3"
    },
    "language_info": {
      "name": "python"
    }
  },
  "cells": [
    {
      "cell_type": "markdown",
      "metadata": {
        "id": "view-in-github",
        "colab_type": "text"
      },
      "source": [
        "<a href=\"https://colab.research.google.com/github/2303A51929/1929_batch-30_PDS/blob/main/Lab1.ipynb\" target=\"_parent\"><img src=\"https://colab.research.google.com/assets/colab-badge.svg\" alt=\"Open In Colab\"/></a>"
      ]
    },
    {
      "cell_type": "code",
      "execution_count": 1,
      "metadata": {
        "id": "2PEdFg7p8Wj4"
      },
      "outputs": [],
      "source": [
        "def fatorial(n):\n",
        "  if n==0 or n==1:\n",
        "    return 1\n",
        "  else:\n",
        "    return n*factorial(n-1)\\\n",
        ""
      ]
    },
    {
      "cell_type": "code",
      "source": [
        "def factorial(n):\n",
        "  if n==0 or n==1:\n",
        "    return 1\n",
        "  else:\n",
        "    return n*factorial(n-1)\n",
        "\n",
        "number=int(input(\"Enter a number: \"))\n",
        "\n",
        "if(number<0):\n",
        "  print(\"Factorial does not exist for negative numbers\")\n",
        "elif (number<=10):\n",
        "  result=factorial(number)\n",
        "  print(\"The factorial of\",number,\"is\",result)\n",
        "else:\n",
        "  print(\"Factorial is too large\")"
      ],
      "metadata": {
        "colab": {
          "base_uri": "https://localhost:8080/"
        },
        "id": "qtekkiQN-kAD",
        "outputId": "badd33aa-b2eb-4e01-d7b9-89fed17894ae"
      },
      "execution_count": 3,
      "outputs": [
        {
          "output_type": "stream",
          "name": "stdout",
          "text": [
            "Enter a number: 7\n",
            "The factorial of 7 is 5040\n"
          ]
        }
      ]
    },
    {
      "cell_type": "markdown",
      "source": [
        "question 2\n"
      ],
      "metadata": {
        "id": "Z67VR4Ec-_cy"
      }
    },
    {
      "cell_type": "code",
      "source": [
        "def factorial(n):\n",
        "  fact=1\n",
        "  for i in range(1,n+1):\n",
        "    fact *= i\n",
        "  return fact\n",
        "\n",
        "print(factorial(4))"
      ],
      "metadata": {
        "colab": {
          "base_uri": "https://localhost:8080/"
        },
        "id": "B1UXzTdb-5Hh",
        "outputId": "7a6c8d5e-f8f3-4ced-db25-5ba85063c92d"
      },
      "execution_count": 4,
      "outputs": [
        {
          "output_type": "stream",
          "name": "stdout",
          "text": [
            "24\n"
          ]
        }
      ]
    }
  ]
}