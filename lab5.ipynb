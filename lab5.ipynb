{
  "nbformat": 4,
  "nbformat_minor": 0,
  "metadata": {
    "colab": {
      "provenance": [],
      "authorship_tag": "ABX9TyMfitUSRUYsP8RYjWADdpos",
      "include_colab_link": true
    },
    "kernelspec": {
      "name": "python3",
      "display_name": "Python 3"
    },
    "language_info": {
      "name": "python"
    }
  },
  "cells": [
    {
      "cell_type": "markdown",
      "metadata": {
        "id": "view-in-github",
        "colab_type": "text"
      },
      "source": [
        "<a href=\"https://colab.research.google.com/github/2303A51929/1929_batch-30_PDS/blob/main/lab5.ipynb\" target=\"_parent\"><img src=\"https://colab.research.google.com/assets/colab-badge.svg\" alt=\"Open In Colab\"/></a>"
      ]
    },
    {
      "cell_type": "code",
      "execution_count": 1,
      "metadata": {
        "colab": {
          "base_uri": "https://localhost:8080/"
        },
        "id": "1RmGjJcdHsKU",
        "outputId": "97ce7a08-1d8c-4a72-ea11-4028dbfb1eea"
      },
      "outputs": [
        {
          "output_type": "stream",
          "name": "stdout",
          "text": [
            "\n",
            "Merged Dataset:\n",
            "    transaction_id  customer_id  amount     name       city\n",
            "0               1          101    2500    Alice  Hyderabad\n",
            "1               2          102    1800      Bob  Bangalore\n",
            "2               3          101    1200    Alice  Hyderabad\n",
            "3               4          103    3000  Charlie  Hyderabad\n",
            "4               5          104    2100    Diana    Chennai\n",
            "5               6          102    1500      Bob  Bangalore\n",
            "\n",
            "Total Spend Per Customer:\n",
            "    customer_id     name  total_spend\n",
            "0          101    Alice         3700\n",
            "1          102      Bob         3300\n",
            "2          103  Charlie         3000\n",
            "3          104    Diana         2100\n",
            "\n",
            "City-wise Spending:\n",
            "         city  city_total_spend\n",
            "0  Bangalore              3300\n",
            "1    Chennai              2100\n",
            "2  Hyderabad              6700\n",
            "\n",
            "Top Spender:\n",
            " customer_id      101\n",
            "name           Alice\n",
            "total_spend     3700\n",
            "Name: 0, dtype: object\n"
          ]
        }
      ],
      "source": [
        "import pandas as pd\n",
        "\n",
        "customers = pd.DataFrame({\n",
        "    'customer_id': [101, 102, 103, 104],\n",
        "    'name': ['Alice', 'Bob', 'Charlie', 'Diana'],\n",
        "    'city': ['Hyderabad', 'Bangalore', 'Hyderabad', 'Chennai']\n",
        "})\n",
        "\n",
        "transactions = pd.DataFrame({\n",
        "    'transaction_id': [1, 2, 3, 4, 5, 6],\n",
        "    'customer_id': [101, 102, 101, 103, 104, 102],\n",
        "    'amount': [2500, 1800, 1200, 3000, 2100, 1500]\n",
        "})\n",
        "\n",
        "merged = pd.merge(transactions, customers, on='customer_id')\n",
        "print(\"\\nMerged Dataset:\\n\", merged)\n",
        "\n",
        "customer_spend = merged.groupby(['customer_id','name'])['amount'].sum().reset_index()\n",
        "customer_spend.rename(columns={'amount':'total_spend'}, inplace=True)\n",
        "print(\"\\nTotal Spend Per Customer:\\n\", customer_spend)\n",
        "\n",
        "city_spend = merged.groupby('city')['amount'].sum().reset_index()\n",
        "city_spend.rename(columns={'amount':'city_total_spend'}, inplace=True)\n",
        "print(\"\\nCity-wise Spending:\\n\", city_spend)\n",
        "\n",
        "top_spender = customer_spend.loc[customer_spend['total_spend'].idxmax()]\n",
        "print(\"\\nTop Spender:\\n\", top_spender)\n"
      ]
    },
    {
      "cell_type": "code",
      "source": [
        "import pandas as pd\n",
        "\n",
        "patients = pd.DataFrame({\n",
        "    'patient_id': [1, 2, 3, 4],\n",
        "    'name': ['Ravi', 'Sneha', 'Amit', 'Priya'],\n",
        "    'age': [45, 30, 55, 40]\n",
        "})\n",
        "\n",
        "appointments = pd.DataFrame({\n",
        "    'appt_id': [11,12,13,14,15,16,17],\n",
        "    'patient_id': [1,2,1,3,3,3,4],\n",
        "    'doctor': ['Dr.A','Dr.B','Dr.C','Dr.A','Dr.B','Dr.A','Dr.C'],\n",
        "    'date': ['2025-09-01','2025-09-02','2025-09-05',\n",
        "             '2025-09-01','2025-09-03','2025-09-06','2025-09-04']\n",
        "})\n",
        "\n",
        "merged_health = pd.merge(appointments, patients, on='patient_id')\n",
        "print(\"\\nMerged Dataset:\\n\", merged_health)\n",
        "\n",
        "appt_per_patient = merged_health.groupby(['patient_id','name'])['appt_id'].count().reset_index()\n",
        "appt_per_patient.rename(columns={'appt_id':'appointment_count'}, inplace=True)\n",
        "print(\"\\nAppointments per Patient:\\n\", appt_per_patient)\n",
        "\n",
        "doctor_workload = merged_health.groupby('doctor')['appt_id'].count().reset_index()\n",
        "doctor_workload.rename(columns={'appt_id':'total_appointments'}, inplace=True)\n",
        "print(\"\\nDoctor Workload:\\n\", doctor_workload)\n",
        "\n",
        "max_patient = appt_per_patient.loc[appt_per_patient['appointment_count'].idxmax()]\n",
        "print(\"\\nPatient with Maximum Visits:\\n\", max_patient)\n"
      ],
      "metadata": {
        "colab": {
          "base_uri": "https://localhost:8080/"
        },
        "id": "wOPoWgbmH2Mu",
        "outputId": "24d65a88-1ee1-4b3f-ce43-5530b794bd23"
      },
      "execution_count": 2,
      "outputs": [
        {
          "output_type": "stream",
          "name": "stdout",
          "text": [
            "\n",
            "Merged Dataset:\n",
            "    appt_id  patient_id doctor        date   name  age\n",
            "0       11           1   Dr.A  2025-09-01   Ravi   45\n",
            "1       12           2   Dr.B  2025-09-02  Sneha   30\n",
            "2       13           1   Dr.C  2025-09-05   Ravi   45\n",
            "3       14           3   Dr.A  2025-09-01   Amit   55\n",
            "4       15           3   Dr.B  2025-09-03   Amit   55\n",
            "5       16           3   Dr.A  2025-09-06   Amit   55\n",
            "6       17           4   Dr.C  2025-09-04  Priya   40\n",
            "\n",
            "Appointments per Patient:\n",
            "    patient_id   name  appointment_count\n",
            "0           1   Ravi                  2\n",
            "1           2  Sneha                  1\n",
            "2           3   Amit                  3\n",
            "3           4  Priya                  1\n",
            "\n",
            "Doctor Workload:\n",
            "   doctor  total_appointments\n",
            "0   Dr.A                   3\n",
            "1   Dr.B                   2\n",
            "2   Dr.C                   2\n",
            "\n",
            "Patient with Maximum Visits:\n",
            " patient_id              3\n",
            "name                 Amit\n",
            "appointment_count       3\n",
            "Name: 2, dtype: object\n"
          ]
        }
      ]
    }
  ]
}